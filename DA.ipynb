{
 "cells": [
  {
   "cell_type": "code",
   "execution_count": 1,
   "metadata": {},
   "outputs": [],
   "source": [
    "import pandas as pd \n",
    "import numpy as np"
   ]
  },
  {
   "cell_type": "code",
   "execution_count": 2,
   "metadata": {},
   "outputs": [],
   "source": [
    "# df = pd.read_csv('kz.csv')\n",
    "# df = df.dropna().drop_duplicates()"
   ]
  },
  {
   "cell_type": "code",
   "execution_count": 3,
   "metadata": {},
   "outputs": [],
   "source": [
    "# num_trans = df.groupby('user_id')['order_id'].count()\n",
    "# print('Number of users with more than 5 transactions:',num_trans[num_trans>5].shape[0])\n",
    "# print('Number of transactions for those users:', num_trans[num_trans>5].sum())\n",
    "# print(\"Number of categories for tose transactions:\",df[df.user_id.isin(num_trans[num_trans>5].index)].category_code.nunique())\n",
    "# display(df)"
   ]
  },
  {
   "cell_type": "code",
   "execution_count": 4,
   "metadata": {},
   "outputs": [],
   "source": [
    "df = pd.read_csv('data_all.csv')"
   ]
  },
  {
   "cell_type": "code",
   "execution_count": 11,
   "metadata": {},
   "outputs": [],
   "source": [
    "num_trans = df.groupby('user_id')['cumulative_transaction_count'].count()\n",
    "users_with_more_than_5_transactions = num_trans[num_trans > 5].index\n",
    "df_selected_users = df[df['user_id'].isin(users_with_more_than_5_transactions)]\n"
   ]
  },
  {
   "cell_type": "code",
   "execution_count": 19,
   "metadata": {},
   "outputs": [],
   "source": [
    "# Reindex users\n",
    "user_unique = df_selected_users['user_id'].unique().tolist()\n",
    "user_map = dict(zip(user_unique, range(1, len(user_unique) + 1)))\n",
    "user_map[-1] = 0\n",
    "df_selected_users['user_id'] = df_selected_users['user_id'].apply(lambda x: user_map[x])\n",
    "# Reindex items\n",
    "item_unique = df_selected_users['product_id'].unique().tolist()\n",
    "item_map = dict(zip(item_unique, range(1,len(item_unique) + 1)))\n",
    "item_map[-1] = 0\n",
    "df_selected_users['product_id'] = df_selected_users['product_id'].apply(lambda x: item_map[x])"
   ]
  },
  {
   "cell_type": "code",
   "execution_count": 27,
   "metadata": {},
   "outputs": [],
   "source": [
    "df_selected_users.to_csv('full_data.csv', index=False)"
   ]
  },
  {
   "cell_type": "code",
   "execution_count": 58,
   "metadata": {},
   "outputs": [
    {
     "name": "stdout",
     "output_type": "stream",
     "text": [
      "[]\n"
     ]
    }
   ],
   "source": [
    "# Randomly selecting test users\n",
    "np.random.seed(42)\n",
    "test_users = pd.Index(np.random.choice(list(user_map.values())[:-1], 999))\n",
    "# Splitting data into train and test\n",
    "test_data = df_selected_users[df_selected_users['user_id'].isin(test_users)]\n",
    "train_data = df_selected_users.drop(test_data.index)\n",
    "# Checking if the split is correct\n",
    "print(np.intersect1d(train_data.user_id.unique(), test_data.user_id.unique()))"
   ]
  },
  {
   "cell_type": "code",
   "execution_count": 59,
   "metadata": {},
   "outputs": [],
   "source": [
    "test_data.to_csv('test_data.csv', index=False)"
   ]
  },
  {
   "cell_type": "code",
   "execution_count": 62,
   "metadata": {},
   "outputs": [],
   "source": [
    "train_data.to_csv('train_data.csv', index=False)"
   ]
  },
  {
   "cell_type": "code",
   "execution_count": null,
   "metadata": {},
   "outputs": [],
   "source": []
  }
 ],
 "metadata": {
  "kernelspec": {
   "display_name": "base",
   "language": "python",
   "name": "python3"
  },
  "language_info": {
   "codemirror_mode": {
    "name": "ipython",
    "version": 3
   },
   "file_extension": ".py",
   "mimetype": "text/x-python",
   "name": "python",
   "nbconvert_exporter": "python",
   "pygments_lexer": "ipython3",
   "version": "3.10.0"
  }
 },
 "nbformat": 4,
 "nbformat_minor": 2
}
