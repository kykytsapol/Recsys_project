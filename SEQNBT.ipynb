{
 "cells": [
  {
   "cell_type": "code",
   "execution_count": 1,
   "metadata": {},
   "outputs": [],
   "source": [
    "import numpy as np \n",
    "import torch\n",
    "import pandas as pd\n",
    "from tqdm import tqdm\n",
    "from torch.utils.data import Dataset, DataLoader\n",
    "import time\n",
    "from collections import defaultdict\n",
    "import matplotlib.pyplot as plt\n",
    "from IPython.display import clear_output"
   ]
  },
  {
   "cell_type": "markdown",
   "metadata": {},
   "source": [
    "# Autoencoder"
   ]
  },
  {
   "cell_type": "markdown",
   "metadata": {},
   "source": [
    "## Model specification"
   ]
  },
  {
   "cell_type": "code",
   "execution_count": 2,
   "metadata": {},
   "outputs": [],
   "source": [
    "class AE(torch.nn.Module):\n",
    "    def __init__(self, input_size):\n",
    "        super().__init__()\n",
    "         \n",
    "        self.encoder = torch.nn.Sequential(\n",
    "            torch.nn.Linear(input_size, 512),\n",
    "            torch.nn.SELU(),\n",
    "            torch.nn.Linear(512, 128),\n",
    "            torch.nn.SELU(),\n",
    "            torch.nn.Linear(128, 32)\n",
    "        )\n",
    "         \n",
    "        self.decoder = torch.nn.Sequential(\n",
    "            torch.nn.Linear(32, 128),\n",
    "            torch.nn.SELU(),\n",
    "            torch.nn.Linear(128, 512),\n",
    "            torch.nn.SELU(),\n",
    "            torch.nn.Linear(512, input_size)\n",
    "        )\n",
    " \n",
    "    def forward(self, x):\n",
    "        encoded = self.encoder(x)\n",
    "        decoded = self.decoder(encoded)\n",
    "        return decoded"
   ]
  },
  {
   "cell_type": "markdown",
   "metadata": {},
   "source": [
    "## Data Preparation"
   ]
  },
  {
   "cell_type": "code",
   "execution_count": 3,
   "metadata": {},
   "outputs": [],
   "source": [
    "class AEDatasetTrain(Dataset):\n",
    "    def __init__(self):\n",
    "        self.transactions = torch.from_numpy(\n",
    "            pd.read_csv('train_data.csv').drop(\n",
    "                ['Month',\n",
    "                'Day',\n",
    "                'is_weekend',\n",
    "                'hours_since_previous'],\n",
    "                axis=1).to_numpy(dtype=np.float32)\n",
    "            )\n",
    "\n",
    "    def __getitem__(self, index):\n",
    "        return self.transactions[index], self.transactions[index]\n",
    "\n",
    "    def __len__(self):\n",
    "        return len(self.transactions)\n",
    "      "
   ]
  },
  {
   "cell_type": "code",
   "execution_count": 4,
   "metadata": {},
   "outputs": [],
   "source": [
    "class AEDatasetTest(Dataset):\n",
    "    def __init__(self):\n",
    "        self.transactions = torch.from_numpy(\n",
    "            pd.read_csv('test_data.csv').drop(\n",
    "                ['Month',\n",
    "                'Day',\n",
    "                'is_weekend',\n",
    "                'hours_since_previous'],\n",
    "                axis=1).to_numpy(dtype=np.float32)\n",
    "            )\n",
    "\n",
    "    def __getitem__(self, index):\n",
    "        return self.transactions[index], self.transactions[index]\n",
    "\n",
    "    def __len__(self):\n",
    "        return len(self.transactions)\n",
    "      "
   ]
  },
  {
   "cell_type": "code",
   "execution_count": 5,
   "metadata": {},
   "outputs": [],
   "source": [
    "BATCH_SIZE = 128\n",
    "train_dataset = AEDatasetTrain()\n",
    "train_dataloader = DataLoader(train_dataset, batch_size=BATCH_SIZE, shuffle=True)"
   ]
  },
  {
   "cell_type": "code",
   "execution_count": 6,
   "metadata": {},
   "outputs": [],
   "source": [
    "test_dataset = AEDatasetTest()\n",
    "test_dataloader = DataLoader(test_dataset, batch_size=BATCH_SIZE, shuffle=True)"
   ]
  },
  {
   "cell_type": "markdown",
   "metadata": {},
   "source": [
    "## Model training"
   ]
  },
  {
   "cell_type": "code",
   "execution_count": 7,
   "metadata": {},
   "outputs": [],
   "source": [
    "device = 'cuda'\n",
    "model = AE(input_size=779)"
   ]
  },
  {
   "cell_type": "code",
   "execution_count": 8,
   "metadata": {},
   "outputs": [],
   "source": [
    "opt = torch.optim.Adam(model.parameters(), lr=5e-5)\n",
    "criterion = torch.nn.MSELoss()"
   ]
  },
  {
   "cell_type": "code",
   "execution_count": 9,
   "metadata": {},
   "outputs": [
    {
     "data": {
      "text/plain": [
       "AE(\n",
       "  (encoder): Sequential(\n",
       "    (0): Linear(in_features=779, out_features=512, bias=True)\n",
       "    (1): SELU()\n",
       "    (2): Linear(in_features=512, out_features=128, bias=True)\n",
       "    (3): SELU()\n",
       "    (4): Linear(in_features=128, out_features=32, bias=True)\n",
       "  )\n",
       "  (decoder): Sequential(\n",
       "    (0): Linear(in_features=32, out_features=128, bias=True)\n",
       "    (1): SELU()\n",
       "    (2): Linear(in_features=128, out_features=512, bias=True)\n",
       "    (3): SELU()\n",
       "    (4): Linear(in_features=512, out_features=779, bias=True)\n",
       "  )\n",
       ")"
      ]
     },
     "execution_count": 9,
     "metadata": {},
     "output_type": "execute_result"
    }
   ],
   "source": [
    "model.to(device)"
   ]
  },
  {
   "cell_type": "code",
   "execution_count": null,
   "metadata": {},
   "outputs": [],
   "source": [
    "num_epochs = 100\n",
    "\n",
    "history = defaultdict(list)\n",
    "\n",
    "for epoch in range(num_epochs):\n",
    "    start_time = time.time()\n",
    "\n",
    "    model.train()\n",
    "    train_losses = []\n",
    "    pbar = tqdm(train_dataloader)\n",
    "    for x_batch, y_batch in pbar:\n",
    "\n",
    "        # calculate model predictions, calculate loss, make optimizer step\n",
    "        y_pred = model(x_batch.to(device)).cpu()\n",
    "        loss = criterion(y_pred[:,:11], y_batch[:,:11]) + criterion(y_pred[:,11:], y_batch[:,11:])\n",
    "        loss.backward()\n",
    "        opt.step()\n",
    "        opt.zero_grad()\n",
    "\n",
    "        train_losses.append(loss.item())\n",
    "        pbar.desc = f\"Train. Ep:{epoch}, Loss:{np.mean(train_losses):.5f}\"\n",
    "\n",
    "    model.eval()\n",
    "    val_losses = []\n",
    "    pbar = tqdm(test_dataloader)\n",
    "    for x_batch, y_batch in pbar:\n",
    "\n",
    "        # get model predictions, measure loss, collect data for accuracy calc\n",
    "        y_pred = model(x_batch.to(device)).cpu()\n",
    "        loss = criterion(y_pred[:,:11], y_batch[:,:11]) + criterion(y_pred[:,11:], y_batch[:,11:])\n",
    "\n",
    "        val_losses.append(loss.item())\n",
    "        pbar.desc = f\"Valid. Ep:{epoch}, Loss:{np.mean(val_losses):.5f}\"\n",
    "\n",
    "    train_loss = np.mean(train_losses)\n",
    "    val_loss = np.mean(val_losses)\n",
    "    history['train_loss'].append(train_loss)\n",
    "    history['val_loss'].append(val_loss)\n",
    "\n",
    "    print(f\"Ep.{epoch:>2}: {train_loss=:.5f}  {val_loss=:.5f}  epoch_time={time.time() - start_time:.1f}s\")\n",
    "\n",
    "    if (epoch+1) % 10 == 0:\n",
    "        torch.save(model.state_dict(), f\"AE_weights/epoch_{epoch}\")"
   ]
  },
  {
   "cell_type": "markdown",
   "metadata": {},
   "source": [
    "# SEQNBT"
   ]
  },
  {
   "cell_type": "markdown",
   "metadata": {},
   "source": [
    "## Model specification"
   ]
  },
  {
   "cell_type": "code",
   "execution_count": 31,
   "metadata": {},
   "outputs": [],
   "source": [
    "class SEQNBT(torch.nn.Module):\n",
    "    def __init__(self, input_size):\n",
    "        super().__init__()\n",
    "         \n",
    "        self.recurrent = torch.nn.GRU(input_size=input_size, hidden_size=64, dropout=0.25, num_layers=3, batch_first=True)\n",
    "        self.activation_1 = torch.nn.SELU()\n",
    "        self.fc = torch.nn.Linear(64, 32)\n",
    "        self.activation_2 = torch.nn.SELU()\n",
    " \n",
    "    def forward(self, x):\n",
    "        recur, _ = self.recurrent(x)\n",
    "        non_lin = self.activation_1(recur[:,-1,: ])\n",
    "        linear = self.fc(non_lin)\n",
    "        result = self.activation_2(linear)\n",
    "        return result"
   ]
  },
  {
   "cell_type": "markdown",
   "metadata": {},
   "source": [
    "## Data Preparation"
   ]
  },
  {
   "cell_type": "code",
   "execution_count": 5,
   "metadata": {},
   "outputs": [],
   "source": [
    "model = AE(input_size=779)\n",
    "model.load_state_dict(torch.load(\"AE_weights/epoch_100\"))\n",
    "model.eval()\n",
    "model.requires_grad_ = False"
   ]
  },
  {
   "cell_type": "code",
   "execution_count": 6,
   "metadata": {},
   "outputs": [],
   "source": [
    "train_data = pd.read_csv('train_data.csv')\n",
    "train_data.sort_values(['user_id','cumulative_transaction_count'], inplace=True)"
   ]
  },
  {
   "cell_type": "code",
   "execution_count": 7,
   "metadata": {},
   "outputs": [],
   "source": [
    "train_trans_features_ = train_data.drop(['Month','Day','is_weekend','hours_since_previous'],axis=1)\n",
    "train_time_features = train_data[['Month','Day','is_weekend','hours_since_previous']]"
   ]
  },
  {
   "cell_type": "code",
   "execution_count": 40,
   "metadata": {},
   "outputs": [],
   "source": [
    "L = 3\n",
    "sequenced_encoded_train_data = []\n",
    "with torch.no_grad():\n",
    "    for u in train_data.user_id.unique():\n",
    "        x_trans = train_trans_features_[train_trans_features_.user_id==u].to_numpy(dtype=np.float32)\n",
    "        x_temp = train_time_features[train_trans_features_.user_id==u].to_numpy(dtype=np.float32)\n",
    "        x_trans_encoded = model.encoder(torch.from_numpy(x_trans)).numpy()\n",
    "        x_trans_temp = np.concatenate((x_trans_encoded, x_temp),axis=1)\n",
    "        for i in range(len(x_trans_encoded)-L):\n",
    "            sequenced_encoded_train_data.append(x_trans_temp[i:i+L+1])\n",
    "\n",
    "sequenced_encoded_train_data = np.array(sequenced_encoded_train_data)\n",
    "np.save(f\"seq_data/train_L={L}\", sequenced_encoded_train_data, allow_pickle=False, fix_imports=False)\n"
   ]
  },
  {
   "cell_type": "code",
   "execution_count": 48,
   "metadata": {},
   "outputs": [],
   "source": [
    "test_data = pd.read_csv('test_data.csv')\n",
    "test_data.sort_values(['user_id','cumulative_transaction_count'], inplace=True)\n",
    "test_trans_features_ = test_data.drop(['Month','Day','is_weekend','hours_since_previous'],axis=1)\n",
    "test_time_features = test_data[['Month','Day','is_weekend','hours_since_previous']]"
   ]
  },
  {
   "cell_type": "code",
   "execution_count": 53,
   "metadata": {},
   "outputs": [],
   "source": [
    "L = 5\n",
    "sequenced_encoded_test_data = []\n",
    "with torch.no_grad():\n",
    "    for u in test_data.user_id.unique():\n",
    "        x_trans = test_trans_features_[test_trans_features_.user_id==u].to_numpy(dtype=np.float32)\n",
    "        x_temp = test_time_features[test_trans_features_.user_id==u].to_numpy(dtype=np.float32)\n",
    "        x_trans_encoded = model.encoder(torch.from_numpy(x_trans)).numpy()\n",
    "        x_trans_temp = np.concatenate((x_trans_encoded, x_temp),axis=1)\n",
    "        for i in range(len(x_trans_encoded)-L):\n",
    "            sequenced_encoded_test_data.append(x_trans_temp[i:i+L+1])\n",
    "\n",
    "sequenced_encoded_test_data = np.array(sequenced_encoded_test_data)\n",
    "np.save(f\"seq_data/test_L={L}\", sequenced_encoded_test_data, allow_pickle=False, fix_imports=False)"
   ]
  },
  {
   "cell_type": "markdown",
   "metadata": {},
   "source": [
    "## Data Loading"
   ]
  },
  {
   "cell_type": "code",
   "execution_count": 3,
   "metadata": {},
   "outputs": [],
   "source": [
    "class SeqDataset(Dataset):\n",
    "    def __init__(self, part, seq_len):\n",
    "        self.sessions = torch.from_numpy(np.load(f\"seq_data/{part}_L={seq_len}.npy\"))\n",
    "\n",
    "    def __getitem__(self, index):\n",
    "        return self.sessions[index,:-1,:], self.sessions[index,-1,:]\n",
    "\n",
    "    def __len__(self):\n",
    "        return len(self.sessions)"
   ]
  },
  {
   "cell_type": "code",
   "execution_count": 62,
   "metadata": {},
   "outputs": [],
   "source": [
    "BATCH_SIZE = 128\n",
    "seq_len=3\n",
    "train_dataset = SeqDataset(part=\"train\",seq_len=seq_len)\n",
    "train_dataloader = DataLoader(train_dataset, batch_size=BATCH_SIZE, shuffle=True)\n",
    "test_dataset = SeqDataset(part=\"test\",seq_len=seq_len)\n",
    "test_dataloader = DataLoader(test_dataset, batch_size=BATCH_SIZE, shuffle=True)"
   ]
  },
  {
   "cell_type": "markdown",
   "metadata": {},
   "source": [
    "## Model training"
   ]
  },
  {
   "cell_type": "code",
   "execution_count": 63,
   "metadata": {},
   "outputs": [],
   "source": [
    "device = 'cuda'\n",
    "seq_model = SEQNBT(input_size=36)"
   ]
  },
  {
   "cell_type": "code",
   "execution_count": 64,
   "metadata": {},
   "outputs": [],
   "source": [
    "opt = torch.optim.Adam(seq_model.parameters(), lr=1e-3)\n",
    "criterion = torch.nn.MSELoss()"
   ]
  },
  {
   "cell_type": "code",
   "execution_count": 65,
   "metadata": {},
   "outputs": [
    {
     "data": {
      "text/plain": [
       "SEQNBT(\n",
       "  (recurrent): GRU(36, 64, num_layers=3, batch_first=True, dropout=0.25)\n",
       "  (activation_1): SELU()\n",
       "  (fc): Linear(in_features=64, out_features=32, bias=True)\n",
       "  (activation_2): SELU()\n",
       ")"
      ]
     },
     "execution_count": 65,
     "metadata": {},
     "output_type": "execute_result"
    }
   ],
   "source": [
    "seq_model.to(device)"
   ]
  },
  {
   "cell_type": "code",
   "execution_count": 66,
   "metadata": {},
   "outputs": [
    {
     "data": {
      "image/png": "[encoded data removed]",
      "text/plain": [
       "<Figure size 640x480 with 1 Axes>"
      ]
     },
     "metadata": {},
     "output_type": "display_data"
    }
   ],
   "source": [
    "num_epochs = 100\n",
    "\n",
    "history = defaultdict(list)\n",
    "\n",
    "for epoch in range(num_epochs):\n",
    "    start_time = time.time()\n",
    "\n",
    "    seq_model.train()\n",
    "    train_losses = []\n",
    "    pbar = tqdm(train_dataloader)\n",
    "    for x_batch, y_batch in pbar:\n",
    "\n",
    "        # calculate model predictions, calculate loss, make optimizer step\n",
    "        y_pred = seq_model(x_batch.to(device)).cpu()\n",
    "        loss = criterion(y_pred, y_batch[:,:-4])\n",
    "        loss.backward()\n",
    "        opt.step()\n",
    "        opt.zero_grad()\n",
    "\n",
    "        train_losses.append(loss.item())\n",
    "        pbar.desc = f\"Train. Ep:{epoch}, Loss:{np.mean(train_losses):.5f}\"\n",
    "\n",
    "    seq_model.eval()\n",
    "    val_losses = []\n",
    "    pbar = tqdm(test_dataloader)\n",
    "    for x_batch, y_batch in pbar:\n",
    "\n",
    "        # get model predictions, measure loss, collect data for accuracy calc\n",
    "        y_pred = seq_model(x_batch.to(device)).cpu()\n",
    "        loss = criterion(y_pred, y_batch[:,:-4])\n",
    "\n",
    "        val_losses.append(loss.item())\n",
    "        pbar.desc = f\"Valid. Ep:{epoch}, Loss:{np.mean(val_losses):.5f}\"\n",
    "\n",
    "    train_loss = np.mean(train_losses)\n",
    "    val_loss = np.mean(val_losses)\n",
    "    history['train_loss'].append(train_loss)\n",
    "    history['val_loss'].append(val_loss)\n",
    "\n",
    "    print(f\"Ep.{epoch:>2}: {train_loss=:.5f}  {val_loss=:.5f}  epoch_time={time.time() - start_time:.1f}s\")\n",
    "\n",
    "    if (epoch+1) % 10 == 0:\n",
    "        torch.save(seq_model.state_dict(), f\"SEQNBT_weights/L={seq_len}/epoch_{epoch+1}\")\n",
    "    \n",
    "    clear_output()\n",
    "    plt.plot(history['train_loss'],label='train MSE')\n",
    "    plt.plot(history['val_loss'],label='test MSE')\n",
    "    plt.legend(loc='best')\n",
    "    plt.xlim(0,num_epochs)\n",
    "    plt.grid()\n",
    "    plt.savefig(f\"figures/SEQNBT_L={seq_len}_curves.jpg\")\n",
    "    plt.show()\n"
   ]
  },
  {
   "cell_type": "markdown",
   "metadata": {},
   "source": [
    "# Model evaluation"
   ]
  },
  {
   "cell_type": "code",
   "execution_count": 58,
   "metadata": {},
   "outputs": [],
   "source": [
    "from sklearn.metrics.pairwise import cosine_similarity"
   ]
  },
  {
   "cell_type": "code",
   "execution_count": 60,
   "metadata": {},
   "outputs": [],
   "source": [
    "full_data = pd.read_csv('full_data.csv').to_numpy()"
   ]
  },
  {
   "cell_type": "code",
   "execution_count": 61,
   "metadata": {},
   "outputs": [],
   "source": [
    "sic_embeddings = np.unique(full_data[:,15:], axis=0)"
   ]
  },
  {
   "cell_type": "code",
   "execution_count": 62,
   "metadata": {},
   "outputs": [],
   "source": [
    "del full_data"
   ]
  },
  {
   "cell_type": "code",
   "execution_count": 4,
   "metadata": {},
   "outputs": [],
   "source": [
    "model = AE(input_size=779)\n",
    "model.load_state_dict(torch.load(\"AE_weights/epoch_100\"))\n",
    "model.eval()\n",
    "model.requires_grad_ = False"
   ]
  },
  {
   "cell_type": "code",
   "execution_count": 5,
   "metadata": {},
   "outputs": [],
   "source": [
    "test_data = pd.read_csv('test_data.csv')\n",
    "test_data.sort_values(['user_id','cumulative_transaction_count'], inplace=True)\n",
    "test_trans_features_ = test_data.drop(['Month','Day','is_weekend','hours_since_previous'],axis=1)\n",
    "test_time_features = test_data[['Month','Day','is_weekend','hours_since_previous']]"
   ]
  },
  {
   "cell_type": "code",
   "execution_count": 13,
   "metadata": {},
   "outputs": [],
   "source": [
    "correct_embeddings = {3:[],4:[],5:[]}\n",
    "correct_price = {3:[],4:[],5:[]}\n",
    "for seq_len in [3,4,5]:\n",
    "    for u in test_data.user_id.unique():\n",
    "        x_trans = test_trans_features_[test_trans_features_.user_id==u].to_numpy(dtype=np.float32)\n",
    "        for i in range(len(x_trans)-seq_len):\n",
    "            correct_embeddings[seq_len].append(x_trans[i+seq_len][11:])\n",
    "            correct_price[seq_len].append(x_trans[i+seq_len][1])"
   ]
  },
  {
   "cell_type": "code",
   "execution_count": 29,
   "metadata": {},
   "outputs": [],
   "source": [
    "test_data_3 = torch.from_numpy(np.load(f\"seq_data/test_L=3.npy\"))[:,:-1,:]\n",
    "test_data_4 = torch.from_numpy(np.load(f\"seq_data/test_L=4.npy\"))[:,:-1,:]\n",
    "test_data_5 = torch.from_numpy(np.load(f\"seq_data/test_L=5.npy\"))[:,:-1,:]"
   ]
  },
  {
   "cell_type": "code",
   "execution_count": 32,
   "metadata": {},
   "outputs": [],
   "source": [
    "device = 'cuda'\n",
    "seq_model_3 = SEQNBT(input_size=36)\n",
    "seq_model_3.load_state_dict(torch.load(\"SEQNBT_weights/L=3/epoch_100\"))\n",
    "seq_model_3.eval()\n",
    "seq_model_3.requires_grad_ = False\n",
    "seq_model_4 = SEQNBT(input_size=36)\n",
    "seq_model_4.load_state_dict(torch.load(\"SEQNBT_weights/L=4/epoch_100\"))\n",
    "seq_model_4.eval()\n",
    "seq_model_4.requires_grad_ = False\n",
    "seq_model_5 = SEQNBT(input_size=36)\n",
    "seq_model_5.load_state_dict(torch.load(\"SEQNBT_weights/L=5/epoch_100\"))\n",
    "seq_model_5.eval()\n",
    "seq_model_5.requires_grad_ = False"
   ]
  },
  {
   "cell_type": "code",
   "execution_count": 41,
   "metadata": {},
   "outputs": [],
   "source": [
    "with torch.no_grad():\n",
    "    seq_model_3.to(device)\n",
    "    y3_pred = seq_model_3(test_data_3.to(device)).cpu()\n",
    "    seq_model_4.to(device)\n",
    "    y4_pred = seq_model_4(test_data_4.to(device)).cpu()\n",
    "    seq_model_5.to(device)\n",
    "    y5_pred = seq_model_5(test_data_5.to(device)).cpu()"
   ]
  },
  {
   "cell_type": "code",
   "execution_count": 47,
   "metadata": {},
   "outputs": [],
   "source": [
    "\n",
    "with torch.no_grad():\n",
    "    model.to(device)\n",
    "    y3_decoded = model.decoder(y3_pred.to(device)).cpu()\n",
    "    y4_decoded = model.decoder(y4_pred.to(device)).cpu()\n",
    "    y5_decoded = model.decoder(y5_pred.to(device)).cpu()"
   ]
  },
  {
   "cell_type": "code",
   "execution_count": 56,
   "metadata": {},
   "outputs": [
    {
     "data": {
      "text/plain": [
       "(16930, 768)"
      ]
     },
     "execution_count": 56,
     "metadata": {},
     "output_type": "execute_result"
    }
   ],
   "source": [
    "np.array(correct_embeddings[3]).shape"
   ]
  },
  {
   "cell_type": "code",
   "execution_count": 72,
   "metadata": {},
   "outputs": [],
   "source": [
    "L3_recs = np.argsort(cosine_similarity(y3_decoded[:,11:], sic_embeddings))[:,-5:]"
   ]
  },
  {
   "cell_type": "code",
   "execution_count": 93,
   "metadata": {},
   "outputs": [],
   "source": [
    "L4_recs = np.argsort(cosine_similarity(y4_decoded[:,11:], sic_embeddings))[:,-5:]"
   ]
  },
  {
   "cell_type": "code",
   "execution_count": 94,
   "metadata": {},
   "outputs": [],
   "source": [
    "L5_recs = np.argsort(cosine_similarity(y5_decoded[:,11:], sic_embeddings))[:,-5:]"
   ]
  },
  {
   "cell_type": "code",
   "execution_count": 83,
   "metadata": {},
   "outputs": [],
   "source": [
    "correct_recs = {3:[],4:[],5:[]}\n",
    "for i in range(len(correct_embeddings[3])):\n",
    "    correct_recs[3].append(np.argmin(np.linalg.norm(correct_embeddings[3][i]-sic_embeddings, axis=1)))"
   ]
  },
  {
   "cell_type": "code",
   "execution_count": 86,
   "metadata": {},
   "outputs": [],
   "source": [
    "for i in range(len(correct_embeddings[4])):\n",
    "    correct_recs[4].append(np.argmin(np.linalg.norm(correct_embeddings[4][i]-sic_embeddings, axis=1)))"
   ]
  },
  {
   "cell_type": "code",
   "execution_count": 87,
   "metadata": {},
   "outputs": [],
   "source": [
    "for i in range(len(correct_embeddings[5])):\n",
    "    correct_recs[5].append(np.argmin(np.linalg.norm(correct_embeddings[5][i]-sic_embeddings, axis=1)))"
   ]
  },
  {
   "cell_type": "code",
   "execution_count": 107,
   "metadata": {},
   "outputs": [
    {
     "name": "stdout",
     "output_type": "stream",
     "text": [
      "L=3 Recall@1 0.000531600708800945\n",
      "L=3 Recall@5 0.007737743650324867\n"
     ]
    }
   ],
   "source": [
    "print(\"L=3 Recall@1\",np.isin(correct_recs[3], L3_recs[:,-1]).mean())\n",
    "print(\"L=3 Recall@5\",np.isin(correct_recs[3], L3_recs).mean())"
   ]
  },
  {
   "cell_type": "code",
   "execution_count": 105,
   "metadata": {},
   "outputs": [
    {
     "name": "stdout",
     "output_type": "stream",
     "text": [
      "L=4 Recall@1 0.0009385558753597798\n",
      "L=4 Recall@5 0.007383306219496934\n"
     ]
    }
   ],
   "source": [
    "print(\"L=4 Recall@1\",np.isin(correct_recs[4], L4_recs[:,-1]).mean())\n",
    "print(\"L=4 Recall@5\",np.isin(correct_recs[4], L4_recs).mean())"
   ]
  },
  {
   "cell_type": "code",
   "execution_count": 106,
   "metadata": {},
   "outputs": [
    {
     "name": "stdout",
     "output_type": "stream",
     "text": [
      "L=5 Recall@1 0.0007316748702940003\n",
      "L=5 Recall@5 0.007050685113742184\n"
     ]
    }
   ],
   "source": [
    "print(\"L=5 Recall@1\",np.isin(correct_recs[5], L5_recs[:,-1]).mean())\n",
    "print(\"L=5 Recall@5\",np.isin(correct_recs[5], L5_recs).mean())"
   ]
  },
  {
   "cell_type": "code",
   "execution_count": 124,
   "metadata": {},
   "outputs": [
    {
     "name": "stdout",
     "output_type": "stream",
     "text": [
      "L=3 MAP@1 2.6993942559289693e-05\n",
      "L=3 MAP@5 0.000615278598149242\n"
     ]
    }
   ],
   "source": [
    "print(\"L=3 MAP@1\", (np.divide(1,\n",
    "                 np.argmax(np.array(correct_recs[3]).reshape(-1,1) == np.array(L3_recs[:,-1]),axis=1),\n",
    "                 where=np.argmax(np.array(correct_recs[3]).reshape(-1,1) == np.array(L3_recs)[:,-1],axis=1)!=0)).mean())\n",
    "print(\"L=3 MAP@5\", (np.divide(1,\n",
    "                 np.argmax(np.array(correct_recs[3]).reshape(-1,1) == np.array(L3_recs),axis=1),\n",
    "                 where=np.argmax(np.array(correct_recs[3]).reshape(-1,1) == np.array(L3_recs),axis=1)!=0)).mean())"
   ]
  },
  {
   "cell_type": "code",
   "execution_count": 126,
   "metadata": {},
   "outputs": [
    {
     "name": "stdout",
     "output_type": "stream",
     "text": [
      "L=4 MAP@1 4.38273557067092e-06\n",
      "L=4 MAP@5 0.0006361323155216284\n"
     ]
    }
   ],
   "source": [
    "print(\"L=4 MAP@1\", (np.divide(1,\n",
    "                 np.argmax(np.array(correct_recs[4]).reshape(-1,1) == np.array(L4_recs[:,-1]),axis=1),\n",
    "                 where=np.argmax(np.array(correct_recs[4]).reshape(-1,1) == np.array(L4_recs)[:,-1],axis=1)!=0)).mean())\n",
    "print(\"L=4 MAP@5\", (np.divide(1,\n",
    "                 np.argmax(np.array(correct_recs[4]).reshape(-1,1) == np.array(L4_recs),axis=1),\n",
    "                 where=np.argmax(np.array(correct_recs[4]).reshape(-1,1) == np.array(L4_recs),axis=1)!=0)).mean())"
   ]
  },
  {
   "cell_type": "code",
   "execution_count": 127,
   "metadata": {},
   "outputs": [
    {
     "name": "stdout",
     "output_type": "stream",
     "text": [
      "L=5 MAP@1 1.592277698629853e-06\n",
      "L=3 MAP@5 0.0007649328189437276\n"
     ]
    }
   ],
   "source": [
    "print(\"L=5 MAP@1\", (np.divide(1,\n",
    "                 np.argmax(np.array(correct_recs[5]).reshape(-1,1) == np.array(L5_recs[:,-1]),axis=1),\n",
    "                 where=np.argmax(np.array(correct_recs[5]).reshape(-1,1) == np.array(L5_recs)[:,-1],axis=1)!=0)).mean())\n",
    "print(\"L=3 MAP@5\", (np.divide(1,\n",
    "                 np.argmax(np.array(correct_recs[5]).reshape(-1,1) == np.array(L5_recs),axis=1),\n",
    "                 where=np.argmax(np.array(correct_recs[5]).reshape(-1,1) == np.array(L5_recs),axis=1)!=0)).mean())"
   ]
  },
  {
   "cell_type": "code",
   "execution_count": 128,
   "metadata": {},
   "outputs": [],
   "source": [
    "y3_price = y3_pred[:,1]\n",
    "y4_price = y4_pred[:,1]\n",
    "y5_price = y5_pred[:,1]"
   ]
  },
  {
   "cell_type": "code",
   "execution_count": 136,
   "metadata": {},
   "outputs": [
    {
     "name": "stdout",
     "output_type": "stream",
     "text": [
      "L=3 MAE 227.12056\n",
      "L=4 MAE 224.78374\n",
      "L=5 MAE 222.98004\n"
     ]
    }
   ],
   "source": [
    "print(\"L=3 MAE\",(np.array(correct_price[3]) - np.array(y3_price)).mean())\n",
    "print(\"L=4 MAE\",(np.array(correct_price[4]) - np.array(y4_price)).mean())\n",
    "print(\"L=5 MAE\",(np.array(correct_price[5]) - np.array(y5_price)).mean())"
   ]
  },
  {
   "cell_type": "code",
   "execution_count": null,
   "metadata": {},
   "outputs": [],
   "source": []
  }
 ],
 "metadata": {
  "kernelspec": {
   "display_name": "base",
   "language": "python",
   "name": "python3"
  },
  "language_info": {
   "codemirror_mode": {
    "name": "ipython",
    "version": 3
   },
   "file_extension": ".py",
   "mimetype": "text/x-python",
   "name": "python",
   "nbconvert_exporter": "python",
   "pygments_lexer": "ipython3",
   "version": "3.10.0"
  }
 },
 "nbformat": 4,
 "nbformat_minor": 2
}
